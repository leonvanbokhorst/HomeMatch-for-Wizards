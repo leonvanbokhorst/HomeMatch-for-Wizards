{
 "cells": [
  {
   "cell_type": "markdown",
   "id": "a108af04",
   "metadata": {},
   "source": [
    "This is a starter notebook for the project, you'll have to import the libraries you'll need, you can find a list of the ones available in this workspace in the requirements.txt file in this workspace.\n"
   ]
  },
  {
   "cell_type": "markdown",
   "id": "ed81c14e",
   "metadata": {},
   "source": [
    "# 🧙‍♂️ HomeMatch: Magical Real Estate Finder\n",
    "\n",
    "This notebook implements HomeMatch, an innovative real estate application that uses advanced AI techniques to personalize property searches for wizards and witches in the magical world. The project leverages Large Language Models (LLMs) and vector databases to transform standard listings into enchanting, personalized narratives.\n",
    "\n",
    "### Key Components\n",
    "1. **Synthetic Data Generation**: Using GPT-4o-mini to create diverse, magical real estate listings.\n",
    "2. **Vector Database Integration**: Employing ChromaDB to store and efficiently search property embeddings.\n",
    "3. **Semantic Search**: Implementing preference-based searches to find the most suitable magical dwellings.\n",
    "4. **Personalized Descriptions**: Utilizing LLMs to craft tailored property descriptions that resonate with each wizard's unique needs.\n",
    "5. **PoC of a Interactive Web Interface**: Building a user-friendly web application to showcase the magic of HomeMatch."
   ]
  },
  {
   "cell_type": "code",
   "execution_count": 1,
   "id": "f846bef6",
   "metadata": {},
   "outputs": [
    {
     "name": "stdout",
     "output_type": "stream",
     "text": [
      "Note: you may need to restart the kernel to use updated packages.\n"
     ]
    }
   ],
   "source": [
    "# Requirements\n",
    "%pip install -q python-dotenv langchain openai chromadb==0.5.3 tenacity"
   ]
  },
  {
   "cell_type": "code",
   "execution_count": 2,
   "id": "6554fd4c",
   "metadata": {},
   "outputs": [
    {
     "data": {
      "text/plain": [
       "True"
      ]
     },
     "execution_count": 2,
     "metadata": {},
     "output_type": "execute_result"
    }
   ],
   "source": [
    "import dotenv\n",
    "dotenv.load_dotenv() # Load environment variables from .env file (OpenAI API key) "
   ]
  },
  {
   "cell_type": "code",
   "execution_count": 3,
   "id": "937b97db",
   "metadata": {},
   "outputs": [],
   "source": [
    "from langchain_openai import ChatOpenAI\n",
    "#from langchain.prompts import PromptTemplate\n",
    "from langchain.chains import LLMChain\n",
    "#from langchain_community.vectorstores import Chroma\n",
    "#from langchain_openai import OpenAIEmbeddings\n",
    "#from langchain.schema import Document\n",
    "\n",
    "chat_model = \"gpt-4o-mini\"\n",
    "temperature = 0.7\n",
    "\n",
    "# Initialize LLM\n",
    "llm = ChatOpenAI(model_name=chat_model, temperature=temperature)"
   ]
  },
  {
   "cell_type": "markdown",
   "id": "f6c0c9ac",
   "metadata": {},
   "source": [
    "## Component 1: Synthetic Data Generation\n",
    "\n",
    "This component focuses on creating diverse and realistic magical city contexts and real estate listings using Large Language Models (LLMs). \n",
    "\n",
    "### 1.1 City Context Generation\n",
    "\n",
    "We use GPT-4o-mini to generate unique city contexts for our magical real estate listings. Each context includes:\n",
    "1. A creative neighborhood name\n",
    "2. General location or region\n",
    "3. Population size category\n",
    "4. Defining characteristics or attractions\n",
    "5. Economic base or major industries\n",
    "\n",
    "These contexts serve as the foundation for our property listings, ensuring a rich and diverse magical world.\n",
    "\n",
    "#### Code Overview\n",
    "\n",
    "The `generate_city_contexts` function uses a carefully crafted prompt to generate city contexts. We then save these contexts to a CSV file for persistence and easy reuse.\n",
    "\n",
    "Key functions:\n",
    "- `generate_city_contexts`: Creates city contexts using the LLM\n",
    "- `save_city_contexts_to_csv`: Saves or appends contexts to a CSV file\n",
    "- `load_city_contexts_from_csv`: Loads previously generated contexts"
   ]
  },
  {
   "cell_type": "code",
   "execution_count": 4,
   "id": "43ff6471",
   "metadata": {},
   "outputs": [],
   "source": [
    "import pandas as pd\n",
    "import os\n",
    "from typing import List\n",
    "from langchain_core.prompts import PromptTemplate\n",
    "from langchain_openai import ChatOpenAI\n",
    "\n",
    "\n",
    "def generate_city_contexts(llm, num_contexts: int = 10) -> List[str]:\n",
    "    \"\"\"\n",
    "    Generate a specified number of city context descriptions.\n",
    "\n",
    "    Args:\n",
    "    num_contexts (int): Number of city contexts to generate. Defaults to 10.\n",
    "\n",
    "    Returns:\n",
    "    List[str]: List of generated city context descriptions.\n",
    "    \"\"\"\n",
    "\n",
    "    city_context_prompt = PromptTemplate.from_template(\n",
    "        \"\"\"Generate a very short, realistic but, completely made-up, context description for a city or neighborhood that could be used in real estate listings for the Harry Potter series. Include:\n",
    "        1. Neighborhood name (be creative and diverse)\n",
    "        2. General location or region\n",
    "        3. Population size category (small town, mid-size city, large metropolis, etc.)\n",
    "        4. One or two defining characteristics or attractions\n",
    "        5. Economic base or major industries\n",
    "\n",
    "        Provide this in a concise paragraph format, suitable for use in generating real estate listings.\n",
    "\n",
    "        Example:\n",
    "        Zenithville Dwarf Parking, nestled in the heart of the Purple Pot Midwest, is a charming mid-size city of about 150,000 broom stick students. Known for its vibrant magic arts scene and annual hot air soap bubble festival, Zenithville has recently become a hub for fairy tech wizards, blending its traditional wizardry schools with a growing innovation sector.\n",
    "\n",
    "        Now, generate a fantastic unique new city context:\"\"\"\n",
    "    )\n",
    "\n",
    "    contexts = []\n",
    "    for _ in range(num_contexts):\n",
    "        context = llm.invoke(city_context_prompt.format())\n",
    "        contexts.append(context.content.strip())\n",
    "\n",
    "    return pd.DataFrame({\"city_context\": contexts})\n",
    "\n",
    "\n",
    "def save_city_contexts_to_csv(\n",
    "    df_city_contexts: pd.DataFrame,\n",
    "    append: bool = False,\n",
    "    city_contexts_csv: str = \"homematch_city_contexts.csv\",\n",
    "):\n",
    "    \"\"\"\n",
    "    Generate and save city contexts to a CSV file.\n",
    "\n",
    "    Args:\n",
    "    city_contexts_csv (str): Path to the CSV file to save the city contexts. Defaults to \"city_contexts.csv\".\n",
    "    \"\"\"\n",
    "\n",
    "    # if the csv does not exists, create it\n",
    "    if not os.path.exists(city_contexts_csv):\n",
    "\n",
    "        # Save to CSV\n",
    "        df_city_contexts.to_csv(city_contexts_csv, index=False)\n",
    "        print(f\"City contexts saved to {city_contexts_csv}\")\n",
    "\n",
    "    else:\n",
    "        if append:\n",
    "            # Load the existing CSV\n",
    "            existing_df = pd.read_csv(city_contexts_csv)\n",
    "            # Append the new data\n",
    "            df_city_contexts = pd.concat(\n",
    "                [existing_df, df_city_contexts], ignore_index=True\n",
    "            )\n",
    "            # Save to CSV\n",
    "            df_city_contexts.to_csv(city_contexts_csv, index=False)\n",
    "            print(f\"City contexts appended to {city_contexts_csv}\")\n",
    "        else:\n",
    "            print(\n",
    "                f\"City contexts already exist in {city_contexts_csv}. Set 'append=True' to append the new contexts.\"\n",
    "            )\n",
    "\n",
    "\n",
    "def load_city_contexts_from_csv(\n",
    "    city_contexts_csv: str = \"homematch_city_contexts.csv\",\n",
    ") -> pd.DataFrame:\n",
    "    \"\"\"\n",
    "    Load city contexts from a CSV file.\n",
    "\n",
    "    Args:\n",
    "    city_contexts_csv (str): Path to the CSV file containing the city contexts. Defaults to \"city_contexts.csv\".\n",
    "\n",
    "    Returns:\n",
    "    pd.DataFrame: DataFrame containing the loaded city contexts.\n",
    "    \"\"\"\n",
    "    if os.path.exists(city_contexts_csv):\n",
    "        df_city_contexts = pd.read_csv(city_contexts_csv)\n",
    "        print(f\"City contexts loaded from {city_contexts_csv}\")\n",
    "        return df_city_contexts\n",
    "    else:\n",
    "        print(f\"City contexts CSV file '{city_contexts_csv}' not found.\")\n",
    "        return None"
   ]
  },
  {
   "cell_type": "code",
   "execution_count": null,
   "id": "dcfead8e",
   "metadata": {},
   "outputs": [],
   "source": [
    "# Generate city contexts\n",
    "df = generate_city_contexts(llm=llm)  # Generate n=10 city contexts\n",
    "save_city_contexts_to_csv(df, True)"
   ]
  },
  {
   "cell_type": "code",
   "execution_count": 5,
   "id": "b7a7b732",
   "metadata": {},
   "outputs": [
    {
     "name": "stdout",
     "output_type": "stream",
     "text": [
      "City contexts loaded from homematch_city_contexts.csv\n"
     ]
    },
    {
     "data": {
      "text/html": [
       "<div>\n",
       "<style scoped>\n",
       "    .dataframe tbody tr th:only-of-type {\n",
       "        vertical-align: middle;\n",
       "    }\n",
       "\n",
       "    .dataframe tbody tr th {\n",
       "        vertical-align: top;\n",
       "    }\n",
       "\n",
       "    .dataframe thead th {\n",
       "        text-align: right;\n",
       "    }\n",
       "</style>\n",
       "<table border=\"1\" class=\"dataframe\">\n",
       "  <thead>\n",
       "    <tr style=\"text-align: right;\">\n",
       "      <th></th>\n",
       "      <th>city_context</th>\n",
       "    </tr>\n",
       "  </thead>\n",
       "  <tbody>\n",
       "    <tr>\n",
       "      <th>10</th>\n",
       "      <td>Wandelo, located in the lush hills of the Ench...</td>\n",
       "    </tr>\n",
       "    <tr>\n",
       "      <th>11</th>\n",
       "      <td>Gangrove, located in the enchanting Emerald Va...</td>\n",
       "    </tr>\n",
       "    <tr>\n",
       "      <th>12</th>\n",
       "      <td>Elderbore, nestled in the mystical Glimmering ...</td>\n",
       "    </tr>\n",
       "    <tr>\n",
       "      <th>13</th>\n",
       "      <td>Princebeek, located within the enchanting Elde...</td>\n",
       "    </tr>\n",
       "    <tr>\n",
       "      <th>14</th>\n",
       "      <td>Manickure City, located in the lush and mystic...</td>\n",
       "    </tr>\n",
       "  </tbody>\n",
       "</table>\n",
       "</div>"
      ],
      "text/plain": [
       "                                         city_context\n",
       "10  Wandelo, located in the lush hills of the Ench...\n",
       "11  Gangrove, located in the enchanting Emerald Va...\n",
       "12  Elderbore, nestled in the mystical Glimmering ...\n",
       "13  Princebeek, located within the enchanting Elde...\n",
       "14  Manickure City, located in the lush and mystic..."
      ]
     },
     "execution_count": 5,
     "metadata": {},
     "output_type": "execute_result"
    }
   ],
   "source": [
    "# Load city contexts from CSV file\n",
    "df = load_city_contexts_from_csv()\n",
    "\n",
    "# Display the city contexts DataFrame\n",
    "df.tail()"
   ]
  },
  {
   "cell_type": "markdown",
   "id": "e8333aa6",
   "metadata": {},
   "source": [
    "#### Example City Context Generation\n",
    "\n",
    "Brackenvale Hollow, located in the serene outskirts of the Enchanted Forest region, is a quaint small town with a population of around 8,000 magical beings. Renowned for its breathtaking views of the Whispering Pines and the enchanting Glowworm Festival held every autumn, Brackenvale offers a unique blend of tranquility and community spirit. The town's economy thrives on potion brewing, magical creature care, and artisanal wand craftsmanship, making it a perfect haven for both seasoned wizards and aspiring apprentices looking to settle down in a picturesque, magical environment.\n"
   ]
  },
  {
   "cell_type": "code",
   "execution_count": 6,
   "id": "6fd66ad9",
   "metadata": {},
   "outputs": [
    {
     "name": "stdout",
     "output_type": "stream",
     "text": [
      "The output should be formatted as a JSON instance that conforms to the JSON schema below.\n",
      "\n",
      "As an example, for the schema {\"properties\": {\"foo\": {\"title\": \"Foo\", \"description\": \"a list of strings\", \"type\": \"array\", \"items\": {\"type\": \"string\"}}}, \"required\": [\"foo\"]}\n",
      "the object {\"foo\": [\"bar\", \"baz\"]} is a well-formatted instance of the schema. The object {\"properties\": {\"foo\": [\"bar\", \"baz\"]}} is not well-formatted.\n",
      "\n",
      "Here is the output schema:\n",
      "```\n",
      "{\"properties\": {\"neighborhood\": {\"description\": \"name of the neighborhood\", \"title\": \"Neighborhood\", \"type\": \"string\"}, \"neighborhood_description\": {\"description\": \"description of the neighborhood\", \"title\": \"Neighborhood Description\", \"type\": \"string\"}, \"price\": {\"description\": \"price of the listing\", \"minimum\": 0, \"title\": \"Price\", \"type\": \"integer\"}, \"bedrooms\": {\"description\": \"number of bedrooms\", \"minimum\": 0, \"title\": \"Bedrooms\", \"type\": \"integer\"}, \"bathrooms\": {\"description\": \"number of bathrooms\", \"minimum\": 0, \"title\": \"Bathrooms\", \"type\": \"integer\"}, \"sqft\": {\"description\": \"square footage of the listing\", \"minimum\": 0, \"title\": \"Sqft\", \"type\": \"integer\"}, \"description\": {\"description\": \"description of the listing\", \"title\": \"Description\", \"type\": \"string\"}}, \"required\": [\"neighborhood\", \"neighborhood_description\", \"price\", \"bedrooms\", \"bathrooms\", \"sqft\", \"description\"]}\n",
      "```\n"
     ]
    }
   ],
   "source": [
    "from pydantic import BaseModel, Field, StrictStr, NonNegativeInt\n",
    "from langchain.output_parsers import PydanticOutputParser\n",
    "\n",
    "\n",
    "class RealEstateListing(BaseModel):\n",
    "    neighborhood: StrictStr = Field(description=\"name of the neighborhood\")\n",
    "    neighborhood_description: StrictStr = Field(\n",
    "        description=\"description of the neighborhood\"\n",
    "    )\n",
    "    price: NonNegativeInt = Field(description=\"price of the listing\")\n",
    "    bedrooms: NonNegativeInt = Field(description=\"number of bedrooms\")\n",
    "    bathrooms: NonNegativeInt = Field(description=\"number of bathrooms\")\n",
    "    sqft: NonNegativeInt = Field(description=\"square footage of the listing\")\n",
    "    description: StrictStr = Field(description=\"description of the listing\")\n",
    "\n",
    "\n",
    "parser = PydanticOutputParser(pydantic_object=RealEstateListing)\n",
    "print(parser.get_format_instructions())"
   ]
  },
  {
   "cell_type": "code",
   "execution_count": 7,
   "id": "d0538403",
   "metadata": {},
   "outputs": [
    {
     "name": "stdout",
     "output_type": "stream",
     "text": [
      "Generate a fantasy real estate listing like it's from the Harry Potter series with the following details:\n",
      "\t\t- Neighborhood\n",
      "\t\t- Neighborhood Description\n",
      "\t\t- Price\n",
      "\t\t- Bedrooms\n",
      "\t\t- Bathrooms\n",
      "\t\t- House Size\n",
      "\t\t- Description\n",
      "\t\t\n",
      "\t\tMake it diverse and appealing. Please sum up these details in the description as well!\n",
      "\n",
      "Format requirements:\n",
      "The output should be formatted as a JSON instance that conforms to the JSON schema below.\n",
      "\n",
      "As an example, for the schema {\"properties\": {\"foo\": {\"title\": \"Foo\", \"description\": \"a list of strings\", \"type\": \"array\", \"items\": {\"type\": \"string\"}}}, \"required\": [\"foo\"]}\n",
      "the object {\"foo\": [\"bar\", \"baz\"]} is a well-formatted instance of the schema. The object {\"properties\": {\"foo\": [\"bar\", \"baz\"]}} is not well-formatted.\n",
      "\n",
      "Here is the output schema:\n",
      "```\n",
      "{\"properties\": {\"neighborhood\": {\"description\": \"name of the neighborhood\", \"title\": \"Neighborhood\", \"type\": \"string\"}, \"neighborhood_description\": {\"description\": \"description of the neighborhood\", \"title\": \"Neighborhood Description\", \"type\": \"string\"}, \"price\": {\"description\": \"price of the listing\", \"minimum\": 0, \"title\": \"Price\", \"type\": \"integer\"}, \"bedrooms\": {\"description\": \"number of bedrooms\", \"minimum\": 0, \"title\": \"Bedrooms\", \"type\": \"integer\"}, \"bathrooms\": {\"description\": \"number of bathrooms\", \"minimum\": 0, \"title\": \"Bathrooms\", \"type\": \"integer\"}, \"sqft\": {\"description\": \"square footage of the listing\", \"minimum\": 0, \"title\": \"Sqft\", \"type\": \"integer\"}, \"description\": {\"description\": \"description of the listing\", \"title\": \"Description\", \"type\": \"string\"}}, \"required\": [\"neighborhood\", \"neighborhood_description\", \"price\", \"bedrooms\", \"bathrooms\", \"sqft\", \"description\"]}\n",
      "```\n",
      "\n",
      "City Context:\n",
      "Wyrmwood, located in the enchanting Elderwood region, is a quaint small town with a population of approximately 8,500 magical beings. Renowned for its lush, whispering forests and the captivating Lantern Festival, this picturesque community offers a unique blend of serene nature and vibrant tradition. The local economy thrives on potion brewing, wand crafting, and a burgeoning eco-friendly magical tourism industry, making it a perfect retreat for those seeking a blend of tranquility and craftsmanship in their magical lifestyle.\n"
     ]
    }
   ],
   "source": [
    "prompt = PromptTemplate(\n",
    "    template=\"{question}\\n\\nFormat requirements:\\n{format_instructions}\\n\\nCity Context:\\n{context}\",\n",
    "    input_variables=[\"question\", \"context\"],\n",
    "    partial_variables={\"format_instructions\": parser.get_format_instructions},\n",
    ")\n",
    "\n",
    "question = \"\"\"Generate a fantasy real estate listing like it's from the Harry Potter series with the following details:\n",
    "\t\t- Neighborhood\n",
    "\t\t- Neighborhood Description\n",
    "\t\t- Price\n",
    "\t\t- Bedrooms\n",
    "\t\t- Bathrooms\n",
    "\t\t- House Size\n",
    "\t\t- Description\n",
    "\t\t\n",
    "\t\tMake it diverse and appealing. Please sum up these details in the description as well!\"\"\"\n",
    "\n",
    "\n",
    "# Generate a real estate listing prompt with a random city context from the DataFrame\n",
    "for city_context in df[\"city_context\"].sample(10):\n",
    "    query = prompt.format(context=city_context, question=question)\n",
    "\n",
    "print(query)"
   ]
  },
  {
   "cell_type": "code",
   "execution_count": 8,
   "id": "c2ad1cfd",
   "metadata": {},
   "outputs": [
    {
     "name": "stdout",
     "output_type": "stream",
     "text": [
      "content='```json\\n{\\n  \"neighborhood\": \"Wyrmwood\",\\n  \"neighborhood_description\": \"Nestled in the enchanting Elderwood region, Wyrmwood is a quaint small town known for its lush, whispering forests and the magical Lantern Festival. With a diverse population of approximately 8,500 magical beings, this picturesque community blends serene nature with vibrant tradition, thriving on potion brewing, wand crafting, and eco-friendly magical tourism.\",\\n  \"price\": 350000,\\n  \"bedrooms\": 3,\\n  \"bathrooms\": 2,\\n  \"sqft\": 1600,\\n  \"description\": \"Step into this charming 3-bedroom, 2-bathroom cottage, a perfect blend of rustic charm and modern comforts. The spacious 1600 sqft layout features enchanted windows that open to reveal breathtaking views of the surrounding Elderwood trees, while the cozy fireplace crackles with a flicker of magic. The open-plan living area is ideal for gatherings, whether for potion-making sessions or enjoying festive evenings during the Lantern Festival. The lush garden, complete with a herb patch and a small pond, makes this property a serene retreat for any magical being looking to embrace the tranquility of Wyrmwood.\"\\n}\\n```'\n"
     ]
    }
   ],
   "source": [
    "response = llm.invoke(query)\n",
    "print(response)"
   ]
  },
  {
   "cell_type": "code",
   "execution_count": 9,
   "id": "388bd86a",
   "metadata": {},
   "outputs": [
    {
     "name": "stdout",
     "output_type": "stream",
     "text": [
      "{'neighborhood': 'Wyrmwood', 'neighborhood_description': 'Nestled in the enchanting Elderwood region, Wyrmwood is a quaint small town known for its lush, whispering forests and the magical Lantern Festival. With a diverse population of approximately 8,500 magical beings, this picturesque community blends serene nature with vibrant tradition, thriving on potion brewing, wand crafting, and eco-friendly magical tourism.', 'price': 350000, 'bedrooms': 3, 'bathrooms': 2, 'sqft': 1600, 'description': 'Step into this charming 3-bedroom, 2-bathroom cottage, a perfect blend of rustic charm and modern comforts. The spacious 1600 sqft layout features enchanted windows that open to reveal breathtaking views of the surrounding Elderwood trees, while the cozy fireplace crackles with a flicker of magic. The open-plan living area is ideal for gatherings, whether for potion-making sessions or enjoying festive evenings during the Lantern Festival. The lush garden, complete with a herb patch and a small pond, makes this property a serene retreat for any magical being looking to embrace the tranquility of Wyrmwood.'}\n"
     ]
    }
   ],
   "source": [
    "result = parser.parse(response.content)\n",
    "print(result.dict())"
   ]
  },
  {
   "cell_type": "markdown",
   "id": "1e3a84c7",
   "metadata": {},
   "source": [
    "### 1.2 Synthetic Listing Generation\n",
    "\n",
    "After generating city contexts, we create detailed magical real estate listings for each city. This process involves using our LLM to generate rich, fantastical property descriptions that align with the unique characteristics of each magical location.\n",
    "\n",
    "#### Listing Generation Process\n",
    "\n",
    "1. **Single Listing Generation**: We use a carefully crafted prompt to generate individual listings, ensuring each property has unique features that fit the magical world.\n",
    "\n",
    "2. **Multiple Listings**: We generate multiple listings for each city context, creating a diverse range of properties within each magical location.\n",
    "\n",
    "3. **Error Handling and Retries**: To ensure robustness, we implement retry logic for listing generation, handling potential API errors or rate limiting issues.\n",
    "\n",
    "4. **Persistence**: Generated listings are saved to a JSON file, allowing for easy storage and retrieval of our magical property database.\n",
    "\n",
    "#### Key Functions\n",
    "\n",
    "- `generate_single_listing`: Creates a single property listing using the LLM.\n",
    "- `generate_multiple_listings`: Generates multiple listings across different city contexts.\n",
    "- `save_listings_to_file`: Persists the generated listings to a JSON file.\n",
    "\n",
    "This approach allows us to create a rich, diverse database of magical properties that forms the foundation of our HomeMatch application."
   ]
  },
  {
   "cell_type": "code",
   "execution_count": 10,
   "id": "e8f0c555",
   "metadata": {},
   "outputs": [],
   "source": [
    "import json\n",
    "from typing import List, Dict\n",
    "from tenacity import retry, stop_after_attempt, wait_random_exponential\n",
    "\n",
    "\n",
    "@retry(wait=wait_random_exponential(min=1, max=60), stop=stop_after_attempt(3))\n",
    "def generate_single_listing(llm, prompt, parser, city_context):\n",
    "    \"\"\"Generate a single real estate listing with error handling and retries.\"\"\"\n",
    "    try:\n",
    "        query = prompt.format(context=city_context, question=question)\n",
    "        response = llm.invoke(query)\n",
    "        result = parser.parse(response.content)\n",
    "        return result.dict()\n",
    "    except Exception as e:\n",
    "        print(f\"Error generating listing: {e}\")\n",
    "        raise\n",
    "\n",
    "\n",
    "def generate_multiple_listings(llm, prompt, parser, df_city_contexts, num_listings=10):\n",
    "    \"\"\"Generate multiple real estate listings.\"\"\"\n",
    "    listings = []\n",
    "    for i in range(num_listings):\n",
    "        city_context = df_city_contexts[\"city_context\"].iloc[i]\n",
    "        try:\n",
    "            listing = generate_single_listing(llm, prompt, parser, city_context)\n",
    "            listings.append(listing)\n",
    "        except Exception as e:\n",
    "            print(f\"Failed to generate listing: {e}\")\n",
    "    return listings\n",
    "\n",
    "\n",
    "def save_listings_to_file(\n",
    "    listings: List[Dict],\n",
    "    append: bool = False,\n",
    "    filename: str = \"homematch_listings.json\",\n",
    "):\n",
    "    \"\"\"Save generated listings to a JSON file with an option to append.\"\"\"\n",
    "    try:\n",
    "        if append and os.path.exists(filename):\n",
    "            with open(filename, \"r\") as f:\n",
    "                existing_data = json.load(f)\n",
    "            existing_data.extend(listings)\n",
    "            data_to_save = existing_data\n",
    "        else:\n",
    "            data_to_save = {\"listings\": listings}\n",
    "\n",
    "        with open(filename, \"w\") as f:\n",
    "            json.dump(data_to_save, f, indent=2)\n",
    "        print(f\"{'Appended to' if append else 'Saved'} {filename}\")\n",
    "    except Exception as e:\n",
    "        print(f\"Error saving listings to file: {e}\")"
   ]
  },
  {
   "cell_type": "code",
   "execution_count": 34,
   "id": "7178a578",
   "metadata": {},
   "outputs": [],
   "source": [
    "# Generate listings\n",
    "listings = generate_multiple_listings(llm, prompt, parser, df)"
   ]
  },
  {
   "cell_type": "code",
   "execution_count": 35,
   "id": "27d14c2c",
   "metadata": {},
   "outputs": [
    {
     "name": "stdout",
     "output_type": "stream",
     "text": [
      "Appended to homematch_listings.json\n"
     ]
    }
   ],
   "source": [
    "# Safe listings to file\n",
    "save_listings_to_file(listings, append=True)  # Set append=True to add to existing file"
   ]
  },
  {
   "cell_type": "code",
   "execution_count": 11,
   "id": "e36c8b81",
   "metadata": {},
   "outputs": [],
   "source": [
    "import json\n",
    "from typing import List, Dict\n",
    "from tenacity import retry, stop_after_attempt, wait_random_exponential\n",
    "\n",
    "\n",
    "def load_listings_from_file(filename: str = \"homematch_listings.json\") -> List[Dict]:\n",
    "    \"\"\"Load listings from a JSON file.\"\"\"\n",
    "    try:\n",
    "        with open(filename, \"r\") as f:\n",
    "            data = json.load(f)\n",
    "            print(f\"Loaded {len(data.get('listings', []))} listings from {filename}\")\n",
    "        return data.get(\"listings\", [])\n",
    "    except FileNotFoundError:\n",
    "        print(f\"File {filename} not found. Returning empty list.\")\n",
    "        return []\n",
    "    except json.JSONDecodeError:\n",
    "        print(f\"Error decoding JSON from {filename}. Returning empty list.\")\n",
    "        return []\n",
    "    except Exception as e:\n",
    "        print(f\"Error loading listings from file: {e}\")\n",
    "        return []"
   ]
  },
  {
   "cell_type": "code",
   "execution_count": 12,
   "id": "86b7a8d0",
   "metadata": {},
   "outputs": [
    {
     "name": "stdout",
     "output_type": "stream",
     "text": [
      "Loaded 10 listings from homematch_listings.json\n"
     ]
    },
    {
     "data": {
      "text/plain": [
       "[{'neighborhood': 'Brackenvale',\n",
       "  'neighborhood_description': 'Brackenvale is a quaint small town nestled on the serene outskirts of the Enchanted Forest. With a population of around 8,000 magical beings, it boasts breathtaking views of the Whispering Pines and hosts the enchanting Glowworm Festival every autumn. Known for its strong community spirit and thriving economy based on potion brewing, magical creature care, and artisanal wand craftsmanship, Brackenvale is the perfect haven for both seasoned wizards and aspiring apprentices.',\n",
       "  'price': 355000,\n",
       "  'bedrooms': 3,\n",
       "  'bathrooms': 2,\n",
       "  'sqft': 1800,\n",
       "  'description': 'Welcome to your dream home in the heart of Brackenvale! This charming 3-bedroom, 2-bathroom cottage offers 1,800 sqft of magical living space. Featuring an open-concept layout with a cozy fireplace that crackles with enchantment, a spacious kitchen perfect for potion brewing, and a garden filled with rare herbs and flowers, this property is a true gem. The master suite includes a whimsical balcony overlooking the Whispering Pines, while the guest rooms are perfect for visiting friends or family. With the Glowworm Festival just around the corner, you’ll be at the center of all the festivities. Don’t miss this opportunity to own a piece of Brackenvale magic!'},\n",
       " {'neighborhood': 'Silvershadow',\n",
       "  'neighborhood_description': \"Nestled on the edge of the Enchanted Evergreens in the Westwood region, Silvershadow is a quaint small town with a magical community of about 5,000 residents. Known for its breathtaking moonlit glades and the annual Spectral Lantern Parade, this neighborhood offers a serene escape into nature's magic. Its economy thrives on artisanal potion brewing and enchanting woodcraft, making it a hub for both tourists and industry professionals. With a rich history and a tight-knit community, Silvershadow is the perfect place for wizards and witches seeking a peaceful yet vibrant lifestyle.\",\n",
       "  'price': 370000,\n",
       "  'bedrooms': 3,\n",
       "  'bathrooms': 2,\n",
       "  'sqft': 1500,\n",
       "  'description': 'Welcome to your dream home in Silvershadow! This charming 3-bedroom, 2-bathroom cottage boasts 1,500 sqft of cozy living space, adorned with enchanted woodwork and shimmering moonlight windows that illuminate every corner. The spacious living area features a crackling fireplace perfect for potion-brewing sessions, while the kitchen is equipped with a cauldron oven and herb garden. Step outside to a lush backyard with a magical garden, ideal for hosting gatherings during the Spectral Lantern Parade. This home harmoniously blends comfort and enchantment, providing a perfect sanctuary for magical families.'},\n",
       " {'neighborhood': 'Wyrmwood',\n",
       "  'neighborhood_description': 'Nestled in the enchanting Elderwood region, Wyrmwood is a quaint small town home to around 8,500 magical beings. Known for its lush, whispering forests and the captivating Lantern Festival, this picturesque community offers a unique blend of serene nature and vibrant tradition, ideal for those who appreciate a magical lifestyle.',\n",
       "  'price': 320000,\n",
       "  'bedrooms': 3,\n",
       "  'bathrooms': 2,\n",
       "  'sqft': 1800,\n",
       "  'description': 'Welcome to your new magical haven in Wyrmwood! This charming 3-bedroom, 2-bathroom cottage spans 1,800 sqft and features enchanting forest views from every window. The cozy living room, adorned with a crackling fireplace and floating bookshelves, invites you to relax after a long day of potion brewing. The spacious kitchen is equipped with a cauldron-stove and enchanted cabinets that organize themselves. Step outside to a beautifully manicured garden, perfect for herb cultivation and hosting delightful gatherings during the Lantern Festival. With its blend of tranquility and craftsmanship, this home is perfect for families and magical artisans alike.'}]"
      ]
     },
     "execution_count": 12,
     "metadata": {},
     "output_type": "execute_result"
    }
   ],
   "source": [
    "# Load listings from file\n",
    "loaded_listings = load_listings_from_file()\n",
    "loaded_listings[:3]  # Display the first 3 listings"
   ]
  },
  {
   "cell_type": "markdown",
   "id": "7f8c08f4",
   "metadata": {},
   "source": [
    "## Component 2: Vector Database Integration\n",
    "\n",
    "This component focuses on integrating our generated listings with a vector database, allowing for efficient semantic search capabilities.\n",
    "\n",
    "### Vector Store Setup\n",
    "\n",
    "We use Chroma as our vector database, which allows us to store and search our listings based on their semantic meaning rather than just keywords. This process involves:\n",
    "\n",
    "1. **Initialization**: Setting up a Chroma client with persistent storage.\n",
    "2. **Collection Creation**: Creating a collection to store our listings.\n",
    "3. **Document Preparation**: Transforming our listings into a format suitable for the vector store.\n",
    "4. **Embedding Generation**: Using OpenAI's embedding model to create vector representations of our listings.\n",
    "5. **Data Insertion**: Adding the embedded documents and their metadata to the Chroma collection.\n",
    "\n",
    "This setup enables us to perform semantic searches on our listings, matching properties to user preferences based on the overall meaning and context rather than exact word matches. It forms the backbone of our semantic search capabilities in HomeMatch."
   ]
  },
  {
   "cell_type": "code",
   "execution_count": 12,
   "id": "6f46dcc6",
   "metadata": {},
   "outputs": [],
   "source": [
    "import chromadb\n",
    "from chromadb.config import Settings\n",
    "from langchain.vectorstores import Chroma\n",
    "from langchain_openai import OpenAIEmbeddings\n",
    "from langchain.schema import Document\n",
    "\n",
    "# Initialize the Chroma client\n",
    "client = chromadb.PersistentClient(path=\"chroma.db\", settings=Settings())\n",
    "\n",
    "# Create a collection\n",
    "collection_name = \"homematch_listings_store\"\n",
    "collection = client.get_or_create_collection(name=collection_name)\n",
    "\n",
    "# Prepare the documents and embeddings\n",
    "embeddings = OpenAIEmbeddings()\n",
    "documents = []\n",
    "ids = []\n",
    "metadatas = []\n",
    "\n",
    "for i, listing in enumerate(loaded_listings):\n",
    "    page_content = f\"{listing['description']} {listing['neighborhood_description']}\"\n",
    "    metadata = listing.copy()\n",
    "    del metadata[\"description\"]\n",
    "    del metadata[\"neighborhood_description\"]\n",
    "\n",
    "    documents.append(page_content)\n",
    "    ids.append(str(i))\n",
    "    metadatas.append(metadata)\n",
    "\n",
    "# Generate embeddings\n",
    "embedded_documents = embeddings.embed_documents(documents)\n",
    "\n",
    "# Add documents to the collection\n",
    "collection.upsert(\n",
    "    embeddings=embedded_documents, documents=documents, metadatas=metadatas, ids=ids\n",
    ")"
   ]
  },
  {
   "cell_type": "code",
   "execution_count": 56,
   "id": "433c3be6",
   "metadata": {},
   "outputs": [],
   "source": [
    "# vectorstore.delete_collection() # for debugging purposes only"
   ]
  },
  {
   "cell_type": "markdown",
   "id": "42605df6",
   "metadata": {},
   "source": [
    "## Component 3: Semantic Search\n",
    "\n",
    "The Semantic Search component is at the heart of HomeMatch's ability to match magical properties with wizard preferences. This feature allows us to go beyond simple keyword matching, understanding the context and meaning behind a user's search query.\n",
    "\n",
    "### How it Works\n",
    "\n",
    "1. **Query Embedding**: When a user inputs their preferences, we convert this natural language query into a vector embedding using the same model we used for our listings.\n",
    "\n",
    "2. **Similarity Matching**: We compare this query embedding against all the property embeddings in our vector store, finding the most semantically similar listings.\n",
    "\n",
    "3. **Relevance Scoring**: Each potential match is assigned a relevance score, indicating how closely it aligns with the user's preferences.\n",
    "\n",
    "4. **Result Retrieval**: We retrieve the top-k most relevant listings based on these similarity scores.\n",
    "\n",
    "### Key Features\n",
    "\n",
    "- Natural language understanding of user preferences\n",
    "- Context-aware matching of properties to user needs\n",
    "- Ability to find relevant listings even when exact keywords don't match\n",
    "- Customizable number of results returned\n",
    "\n",
    "This semantic search capability allows HomeMatch to provide highly personalized and relevant property suggestions, even for complex or nuanced user requirements."
   ]
  },
  {
   "cell_type": "code",
   "execution_count": 17,
   "id": "97c60178",
   "metadata": {},
   "outputs": [],
   "source": [
    "# Create a Langchain wrapper around the Chroma collection\n",
    "import chromadb\n",
    "from chromadb.config import Settings\n",
    "from langchain.vectorstores import Chroma\n",
    "from langchain_openai import OpenAIEmbeddings\n",
    "from langchain.schema import Document\n",
    "\n",
    "collection_name = \"homematch_listings_store\"\n",
    "\n",
    "# Initialize the Chroma client\n",
    "client = chromadb.PersistentClient(path=\"chroma.db\", settings=Settings())\n",
    "\n",
    "embeddings = OpenAIEmbeddings()\n",
    "\n",
    "vectorstore = Chroma(\n",
    "    client=client,\n",
    "    collection_name=collection_name,\n",
    "    embedding_function=embeddings,\n",
    "    persist_directory=\"chroma.db\",\n",
    ")"
   ]
  },
  {
   "cell_type": "code",
   "execution_count": 18,
   "id": "7afb040f",
   "metadata": {},
   "outputs": [
    {
     "data": {
      "text/plain": [
       "{'ids': ['0', '1', '2'],\n",
       " 'embeddings': None,\n",
       " 'metadatas': [{'bathrooms': 2,\n",
       "   'bedrooms': 3,\n",
       "   'neighborhood': 'Brackenvale',\n",
       "   'price': 355000,\n",
       "   'sqft': 1800},\n",
       "  {'bathrooms': 2,\n",
       "   'bedrooms': 3,\n",
       "   'neighborhood': 'Silvershadow',\n",
       "   'price': 370000,\n",
       "   'sqft': 1500},\n",
       "  {'bathrooms': 2,\n",
       "   'bedrooms': 3,\n",
       "   'neighborhood': 'Wyrmwood',\n",
       "   'price': 320000,\n",
       "   'sqft': 1800}],\n",
       " 'documents': ['Welcome to your dream home in the heart of Brackenvale! This charming 3-bedroom, 2-bathroom cottage offers 1,800 sqft of magical living space. Featuring an open-concept layout with a cozy fireplace that crackles with enchantment, a spacious kitchen perfect for potion brewing, and a garden filled with rare herbs and flowers, this property is a true gem. The master suite includes a whimsical balcony overlooking the Whispering Pines, while the guest rooms are perfect for visiting friends or family. With the Glowworm Festival just around the corner, you’ll be at the center of all the festivities. Don’t miss this opportunity to own a piece of Brackenvale magic! Brackenvale is a quaint small town nestled on the serene outskirts of the Enchanted Forest. With a population of around 8,000 magical beings, it boasts breathtaking views of the Whispering Pines and hosts the enchanting Glowworm Festival every autumn. Known for its strong community spirit and thriving economy based on potion brewing, magical creature care, and artisanal wand craftsmanship, Brackenvale is the perfect haven for both seasoned wizards and aspiring apprentices.',\n",
       "  \"Welcome to your dream home in Silvershadow! This charming 3-bedroom, 2-bathroom cottage boasts 1,500 sqft of cozy living space, adorned with enchanted woodwork and shimmering moonlight windows that illuminate every corner. The spacious living area features a crackling fireplace perfect for potion-brewing sessions, while the kitchen is equipped with a cauldron oven and herb garden. Step outside to a lush backyard with a magical garden, ideal for hosting gatherings during the Spectral Lantern Parade. This home harmoniously blends comfort and enchantment, providing a perfect sanctuary for magical families. Nestled on the edge of the Enchanted Evergreens in the Westwood region, Silvershadow is a quaint small town with a magical community of about 5,000 residents. Known for its breathtaking moonlit glades and the annual Spectral Lantern Parade, this neighborhood offers a serene escape into nature's magic. Its economy thrives on artisanal potion brewing and enchanting woodcraft, making it a hub for both tourists and industry professionals. With a rich history and a tight-knit community, Silvershadow is the perfect place for wizards and witches seeking a peaceful yet vibrant lifestyle.\",\n",
       "  'Welcome to your new magical haven in Wyrmwood! This charming 3-bedroom, 2-bathroom cottage spans 1,800 sqft and features enchanting forest views from every window. The cozy living room, adorned with a crackling fireplace and floating bookshelves, invites you to relax after a long day of potion brewing. The spacious kitchen is equipped with a cauldron-stove and enchanted cabinets that organize themselves. Step outside to a beautifully manicured garden, perfect for herb cultivation and hosting delightful gatherings during the Lantern Festival. With its blend of tranquility and craftsmanship, this home is perfect for families and magical artisans alike. Nestled in the enchanting Elderwood region, Wyrmwood is a quaint small town home to around 8,500 magical beings. Known for its lush, whispering forests and the captivating Lantern Festival, this picturesque community offers a unique blend of serene nature and vibrant tradition, ideal for those who appreciate a magical lifestyle.'],\n",
       " 'uris': None,\n",
       " 'data': None,\n",
       " 'included': ['metadatas', 'documents']}"
      ]
     },
     "execution_count": 18,
     "metadata": {},
     "output_type": "execute_result"
    }
   ],
   "source": [
    "vectorstore.get([\"0\", \"1\", \"2\"])"
   ]
  },
  {
   "cell_type": "code",
   "execution_count": 19,
   "id": "03cd0c63",
   "metadata": {},
   "outputs": [
    {
     "data": {
      "text/plain": [
       "[(Document(page_content=\"Welcome to this charming 3-bedroom, 2-bathroom cottage located in the heart of Thornwick! With 1800 sqft of cozy living space, this home features enchanting stained glass windows that let in the soft glow of the forest light. The open-concept living area is perfect for gatherings, with a fireplace that crackles with a gentle warmth. The kitchen is a chef's delight, complete with a cauldron-compatible stove and ample space for potion-making. The master bedroom offers a serene view of the Whispering Woods, while the lush garden is ideal for growing your own herbs. Enjoy the vibrant community spirit with easy access to the Moonlight Market and local apothecaries. This property is not just a home; it's a magical lifestyle waiting for you! Thornwick is a quaint village nestled in the enchanting Whispering Woods region. This magical community of around 5,000 residents is celebrated for its picturesque cobblestone streets and the legendary Moonlight Market, attracting visitors from far and wide. Known for its thriving apothecary shops and sustainable magical agriculture, Thornwick is a haven for potion brewers and herbologists, making it an ideal place for nature lovers and magical practitioners alike.\", metadata={'bathrooms': 2, 'bedrooms': 3, 'neighborhood': 'Thornwick', 'price': 250000, 'sqft': 1800}),\n",
       "  0.735881781622726),\n",
       " (Document(page_content='Welcome to your new magical haven in Wyrmwood! This charming 3-bedroom, 2-bathroom cottage spans 1,800 sqft and features enchanting forest views from every window. The cozy living room, adorned with a crackling fireplace and floating bookshelves, invites you to relax after a long day of potion brewing. The spacious kitchen is equipped with a cauldron-stove and enchanted cabinets that organize themselves. Step outside to a beautifully manicured garden, perfect for herb cultivation and hosting delightful gatherings during the Lantern Festival. With its blend of tranquility and craftsmanship, this home is perfect for families and magical artisans alike. Nestled in the enchanting Elderwood region, Wyrmwood is a quaint small town home to around 8,500 magical beings. Known for its lush, whispering forests and the captivating Lantern Festival, this picturesque community offers a unique blend of serene nature and vibrant tradition, ideal for those who appreciate a magical lifestyle.', metadata={'bathrooms': 2, 'bedrooms': 3, 'neighborhood': 'Wyrmwood', 'price': 320000, 'sqft': 1800}),\n",
       "  0.7351052678658874),\n",
       " (Document(page_content='Step into this enchanting three-bedroom cottage, perfectly situated in the heart of Glimmerwood. This charming abode features two stylish bathrooms, a cozy living area adorned with magical artifacts, and a kitchen designed for potion brewing. The backyard boasts a lush garden filled with rare herbs and a small pond, ideal for relaxation or hosting gatherings with fellow magical folk. With its proximity to local shops and the annual Enchanted Harvest Festival, this home is a perfect blend of comfort and community spirit. Nestled in the heart of Monterdale, Glimmerwood is a picturesque neighborhood known for its enchanting landscapes and vibrant community spirit. With its shimmering fairy lights and the annual Enchanted Harvest Festival, residents enjoy a magical atmosphere filled with charm and whimsy. The area is home to quaint shops specializing in potion brewing and magical confectionery, making it a delightful haven for aspiring witches and wizards.', metadata={'bathrooms': 2, 'bedrooms': 3, 'neighborhood': 'Glimmerwood', 'price': 375000, 'sqft': 1500}),\n",
       "  0.7338607361618259)]"
      ]
     },
     "execution_count": 19,
     "metadata": {},
     "output_type": "execute_result"
    }
   ],
   "source": [
    "# search for similar listings\n",
    "query = \"I'm looking for a home. Something like a cottage with two bathrooms and three bedrooms in the woods by a lake\"\n",
    "results = vectorstore.similarity_search_with_relevance_scores(query, k=3)\n",
    "results"
   ]
  },
  {
   "cell_type": "code",
   "execution_count": 20,
   "id": "59abccc7",
   "metadata": {},
   "outputs": [
    {
     "data": {
      "text/plain": [
       "[(Document(page_content='Welcome to your new magical haven in Wyrmwood! This charming 3-bedroom, 2-bathroom cottage spans 1,800 sqft and features enchanting forest views from every window. The cozy living room, adorned with a crackling fireplace and floating bookshelves, invites you to relax after a long day of potion brewing. The spacious kitchen is equipped with a cauldron-stove and enchanted cabinets that organize themselves. Step outside to a beautifully manicured garden, perfect for herb cultivation and hosting delightful gatherings during the Lantern Festival. With its blend of tranquility and craftsmanship, this home is perfect for families and magical artisans alike. Nestled in the enchanting Elderwood region, Wyrmwood is a quaint small town home to around 8,500 magical beings. Known for its lush, whispering forests and the captivating Lantern Festival, this picturesque community offers a unique blend of serene nature and vibrant tradition, ideal for those who appreciate a magical lifestyle.', metadata={'bathrooms': 2, 'bedrooms': 3, 'neighborhood': 'Wyrmwood', 'price': 320000, 'sqft': 1800}),\n",
       "  0.744013690712849)]"
      ]
     },
     "execution_count": 20,
     "metadata": {},
     "output_type": "execute_result"
    }
   ],
   "source": [
    "filter_dict = {\"price\": 320000}  # Filter by price on metadata\n",
    "\n",
    "vectorstore.similarity_search_with_relevance_scores(\n",
    "    query=\"I'm looking for a two-story cottage and wand-friendly workspace with a single bathroom\",\n",
    "    k=5,\n",
    "    filter=filter_dict,\n",
    ")"
   ]
  },
  {
   "cell_type": "markdown",
   "id": "ef9b2f9e",
   "metadata": {},
   "source": [
    "## Component 4: Personalized Listing Description Generation\n",
    "\n",
    "The Personalized Listing Description Generation component is where HomeMatch truly shines, transforming standard property listings into enchanting, tailored narratives that speak directly to each wizard's unique preferences and needs.\n",
    "\n",
    "### How it Works\n",
    "\n",
    "1. **User Preference Analysis**: We analyze the user's search query and any additional information provided to understand their specific desires and requirements.\n",
    "\n",
    "2. **Listing Selection**: Using our semantic search results, we select the most relevant properties for the user.\n",
    "\n",
    "3. **Context Merging**: We combine the original listing information with the user's preferences to create a context for personalization.\n",
    "\n",
    "4. **LLM-Powered Rewriting**: Leveraging our Large Language Model (GPT-4o-mini), we generate a new, personalized description for each selected property.\n",
    "\n",
    "5. **Fact Checking**: We ensure that all factual information about the property remains accurate, while the presentation is tailored to highlight aspects most relevant to the user.\n",
    "\n",
    "### Key Features\n",
    "\n",
    "- Highly personalized property descriptions\n",
    "- Emphasis on features that align with user preferences\n",
    "- Maintenance of factual accuracy\n",
    "- Engaging, wizard-friendly language that brings each property to life\n",
    "\n",
    "This component transforms the house-hunting experience from a mundane task into a magical journey, helping users envision themselves in each property and making emotional connections with potential homes."
   ]
  },
  {
   "cell_type": "code",
   "execution_count": 21,
   "id": "4400434f",
   "metadata": {},
   "outputs": [],
   "source": [
    "# Define user preferences\n",
    "def personalize_listings(listings_from_search, user_preferences_from_chat):\n",
    "    prompt = PromptTemplate(\n",
    "        input_variables=[\"listing\", \"preferences\"],\n",
    "        template=\"\"\"\n",
    "        You are a magical, but sneaky, realty sales person from the Harry Potter series. Use the following listings as inspiration to make an compelling offer of options to the user. The user has already been shown the listings, so it's your job to give selling arguments why these listings totally fit the user's preferences: {user_preferences_from_chat}\n",
    "        \n",
    "        Original listings: {listings_from_search}\n",
    "        \n",
    "        Eaxmple offering:\n",
    "        Take a look at this Cottage in Thornwick. Imagine stepping into a **charming 3-bedroom** cottage nestled in the heart of **Thornwick**, where the whispers of the **Whispering Woods** beckon. While it boasts **two bathrooms**, the **cozy 1800 sqft** of living space is more than adequate for your needs. Picture yourself gathering around the **crackling fireplace** in the open-concept living area, while the **chef's kitchen** with its **cauldron-compatible stove** serves as the perfect backdrop for your potion-making artistry. The **lush garden** is not just a place for herbs; it's a magical sanctuary where you can cultivate your ingredients and let your creativity flourish. The community spirit here is vibrant, with the **Moonlight Market** just a wand's flick away. With its enchanting stained glass windows, this cottage is not just a home; it’s a lifestyle filled with magic and wonder!\n",
    "        \n",
    "        Now sell it to the user as skilfull as you possibly can!: \n",
    "        \"\"\"\n",
    "    )\n",
    "    \n",
    "    chain = LLMChain(llm=llm, prompt=prompt, verbose=True)\n",
    "    personalized_description = chain.run(listings_from_search=listings_from_search, user_preferences_from_chat=user_preferences_from_chat)\n",
    "    \n",
    "    return personalized_description\n",
    "\n"
   ]
  },
  {
   "cell_type": "code",
   "execution_count": 22,
   "id": "d15ea94b",
   "metadata": {},
   "outputs": [
    {
     "name": "stderr",
     "output_type": "stream",
     "text": [
      "/Users/leonvanbokhorst/repos/HomeMatch/venv/lib/python3.11/site-packages/langchain_core/_api/deprecation.py:117: LangChainDeprecationWarning: The function `run` was deprecated in LangChain 0.1.0 and will be removed in 0.2.0. Use invoke instead.\n",
      "  warn_deprecated(\n"
     ]
    },
    {
     "name": "stdout",
     "output_type": "stream",
     "text": [
      "\n",
      "\n",
      "\u001b[1m> Entering new LLMChain chain...\u001b[0m\n",
      "Prompt after formatting:\n",
      "\u001b[32;1m\u001b[1;3m\n",
      "        You are a magical, but sneaky, realty sales person from the Harry Potter series. Use the following listings as inspiration to make an compelling offer of options to the user. The user has already been shown the listings, so it's your job to give selling arguments why these listings totally fit the user's preferences: I'm looking for a two-story cottage and wand-friendly workspace with a single bathroom, can you help me with that?\n",
      "        \n",
      "        Original listings: [Document(page_content=\"Welcome to this charming 3-bedroom, 2-bathroom cottage located in the heart of Thornwick! With 1800 sqft of cozy living space, this home features enchanting stained glass windows that let in the soft glow of the forest light. The open-concept living area is perfect for gatherings, with a fireplace that crackles with a gentle warmth. The kitchen is a chef's delight, complete with a cauldron-compatible stove and ample space for potion-making. The master bedroom offers a serene view of the Whispering Woods, while the lush garden is ideal for growing your own herbs. Enjoy the vibrant community spirit with easy access to the Moonlight Market and local apothecaries. This property is not just a home; it's a magical lifestyle waiting for you! Thornwick is a quaint village nestled in the enchanting Whispering Woods region. This magical community of around 5,000 residents is celebrated for its picturesque cobblestone streets and the legendary Moonlight Market, attracting visitors from far and wide. Known for its thriving apothecary shops and sustainable magical agriculture, Thornwick is a haven for potion brewers and herbologists, making it an ideal place for nature lovers and magical practitioners alike.\", metadata={'bathrooms': 2, 'bedrooms': 3, 'neighborhood': 'Thornwick', 'price': 250000, 'sqft': 1800}), Document(page_content='Welcome to your new magical haven in Wyrmwood! This charming 3-bedroom, 2-bathroom cottage spans 1,800 sqft and features enchanting forest views from every window. The cozy living room, adorned with a crackling fireplace and floating bookshelves, invites you to relax after a long day of potion brewing. The spacious kitchen is equipped with a cauldron-stove and enchanted cabinets that organize themselves. Step outside to a beautifully manicured garden, perfect for herb cultivation and hosting delightful gatherings during the Lantern Festival. With its blend of tranquility and craftsmanship, this home is perfect for families and magical artisans alike. Nestled in the enchanting Elderwood region, Wyrmwood is a quaint small town home to around 8,500 magical beings. Known for its lush, whispering forests and the captivating Lantern Festival, this picturesque community offers a unique blend of serene nature and vibrant tradition, ideal for those who appreciate a magical lifestyle.', metadata={'bathrooms': 2, 'bedrooms': 3, 'neighborhood': 'Wyrmwood', 'price': 320000, 'sqft': 1800}), Document(page_content='Step into this enchanting three-bedroom cottage, perfectly situated in the heart of Glimmerwood. This charming abode features two stylish bathrooms, a cozy living area adorned with magical artifacts, and a kitchen designed for potion brewing. The backyard boasts a lush garden filled with rare herbs and a small pond, ideal for relaxation or hosting gatherings with fellow magical folk. With its proximity to local shops and the annual Enchanted Harvest Festival, this home is a perfect blend of comfort and community spirit. Nestled in the heart of Monterdale, Glimmerwood is a picturesque neighborhood known for its enchanting landscapes and vibrant community spirit. With its shimmering fairy lights and the annual Enchanted Harvest Festival, residents enjoy a magical atmosphere filled with charm and whimsy. The area is home to quaint shops specializing in potion brewing and magical confectionery, making it a delightful haven for aspiring witches and wizards.', metadata={'bathrooms': 2, 'bedrooms': 3, 'neighborhood': 'Glimmerwood', 'price': 375000, 'sqft': 1500})]\n",
      "        \n",
      "        Eaxmple offering:\n",
      "        Take a look at this Cottage in Thornwick. Imagine stepping into a **charming 3-bedroom** cottage nestled in the heart of **Thornwick**, where the whispers of the **Whispering Woods** beckon. While it boasts **two bathrooms**, the **cozy 1800 sqft** of living space is more than adequate for your needs. Picture yourself gathering around the **crackling fireplace** in the open-concept living area, while the **chef's kitchen** with its **cauldron-compatible stove** serves as the perfect backdrop for your potion-making artistry. The **lush garden** is not just a place for herbs; it's a magical sanctuary where you can cultivate your ingredients and let your creativity flourish. The community spirit here is vibrant, with the **Moonlight Market** just a wand's flick away. With its enchanting stained glass windows, this cottage is not just a home; it’s a lifestyle filled with magic and wonder!\n",
      "        \n",
      "        Now sell it to the user as skilfull as you possibly can!: \n",
      "        \u001b[0m\n",
      "\n",
      "\u001b[1m> Finished chain.\u001b[0m\n",
      "Ah, my dear seeker of magical abodes! Allow me to unveil a selection of enchanting options that are sure to tickle your fancy and fulfill your desires for a cozy two-story cottage with a wand-friendly workspace, all while keeping your preferences at the forefront!\n",
      "\n",
      "Let’s begin our journey in the **charming enclave of Thornwick**. Picture yourself in this delightful **3-bedroom cottage**, where **1800 sqft** of cozy living space is bathed in the soft glow of enchanting stained glass windows. Though it offers **two bathrooms**, the versatility of this space is a boon! Imagine transforming one of those bathrooms into a serene potion-brewing sanctuary, while the other remains for your guests. The **open-concept living area** is perfect for gatherings with fellow magical beings, complete with a **crackling fireplace** to warm your heart after a long day of wand-waving. The **chef's kitchen**, equipped with a **cauldron-compatible stove**, is an artist's dream, allowing you to create potions and brews with ease. Plus, the **lush garden** is an ideal space for cultivating your very own herbs, right outside your door. And don't forget, the **Moonlight Market** is merely a flick of your wand away, offering vibrant community spirit and delightful magical finds!\n",
      "\n",
      "Now, let’s whisk over to **Wyrmwood**, where another splendid **3-bedroom cottage** awaits you! This gem features **enchanting forest views** and a cozy living room adorned with **floating bookshelves**—perfect for storing your spell books! The kitchen is a haven for potion-making, equipped with a **cauldron-stove** and **self-organizing cabinets**. Imagine hosting delightful gatherings in your beautifully manicured garden during the **Lantern Festival**—what a magical experience that would be! The tranquility of Wyrmwood, combined with its **vibrant traditions**, creates a harmonious atmosphere, making it an ideal fit for those who cherish a magical lifestyle.\n",
      "\n",
      "Finally, allow me to introduce you to the enchanting **Glimmerwood**. This **three-bedroom cottage** boasts a cozy living area adorned with magical artifacts and a kitchen designed specifically for potion brewing. The **backyard** is a hidden paradise, filled with rare herbs and a small pond, making it perfect for relaxation or magical gatherings. Although it has **two bathrooms**, the charm of this home and its proximity to the **Enchanted Harvest Festival** will surely captivate your heart. With quaint shops specializing in potion brewing and sweet treats nearby, you’ll be surrounded by a thriving community of fellow magical beings.\n",
      "\n",
      "Each of these cottages brings its own unique charm and ambiance that align beautifully with your desire for a cozy two-story home and a wand-friendly workspace. So, which magical haven shall we explore further? Your enchanted lifestyle awaits! 🪄✨\n"
     ]
    }
   ],
   "source": [
    "# test the function with the search results and user preferences\n",
    "user_preferences = \"I'm looking for a two-story cottage and wand-friendly workspace with a single bathroom, can you help me with that?\"\n",
    "\n",
    "listings = []\n",
    "for doc, score in results:\n",
    "    listings.append(doc)\n",
    "\n",
    "personalized_response = personalize_listings(listings_from_search=listings, user_preferences_from_chat=user_preferences)\n",
    "print(personalized_response)"
   ]
  },
  {
   "cell_type": "markdown",
   "id": "efe440d4",
   "metadata": {},
   "source": [
    "## Component 5: Interactive User Interface\n",
    "\n",
    "HomeMatch's user interface brings the magical real estate experience to life, creating an engaging and interactive platform for wizards to find their dream homes.\n",
    "\n",
    "### Key Features\n",
    "\n",
    "1. **Chatbot Interface**: A conversational AI that guides users through the home-searching process, understanding their preferences through natural language.\n",
    "\n",
    "2. **Persona-Driven Interaction**: The interface features \"Mister Sneekrs,\" a charming magical real estate agent who adds character and whimsy to the experience.\n",
    "\n",
    "3. **Dynamic Search**: As users chat about their preferences, the system performs real-time searches to find matching properties.\n",
    "\n",
    "4. **Personalized Listings Display**: Search results are presented in an appealing format, with key details highlighted and personalized descriptions.\n",
    "\n",
    "5. **Expandable Property Details**: Users can easily view more information about each property through expandable sections.\n",
    "\n",
    "### Technology\n",
    "\n",
    "Built using Streamlit, this GUI combines the power of our backend components (LLM, vector store, semantic search) with a user-friendly frontend, creating a seamless and magical house-hunting experience."
   ]
  }
 ],
 "metadata": {
  "kernelspec": {
   "display_name": "Python 3 (ipykernel)",
   "language": "python",
   "name": "python3"
  },
  "language_info": {
   "codemirror_mode": {
    "name": "ipython",
    "version": 3
   },
   "file_extension": ".py",
   "mimetype": "text/x-python",
   "name": "python",
   "nbconvert_exporter": "python",
   "pygments_lexer": "ipython3",
   "version": "3.11.7"
  }
 },
 "nbformat": 4,
 "nbformat_minor": 5
}
